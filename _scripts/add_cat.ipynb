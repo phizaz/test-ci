{
 "cells": [
  {
   "cell_type": "code",
   "execution_count": 4,
   "metadata": {},
   "outputs": [],
   "source": [
    "import os\n",
    "import re"
   ]
  },
  {
   "cell_type": "code",
   "execution_count": 40,
   "metadata": {},
   "outputs": [],
   "source": [
    "path = '_posts/dev'\n",
    "files = os.listdir(path)\n",
    "for file in files:\n",
    "    with open(os.path.join(path, file), encoding='utf-8') as f:\n",
    "        doc = f.read()\n",
    "    # adding categories: dev\n",
    "    doc = re.sub(r'(date.+\\n)', r'\\1categories: dev\\n', doc)\n",
    "    with open(os.path.join(path, file), mode='w', encoding='utf-8') as f:\n",
    "        f.write(doc)"
   ]
  }
 ],
 "metadata": {
  "kernelspec": {
   "display_name": "Python 3",
   "language": "python",
   "name": "python3"
  },
  "language_info": {
   "codemirror_mode": {
    "name": "ipython",
    "version": 3
   },
   "file_extension": ".py",
   "mimetype": "text/x-python",
   "name": "python",
   "nbconvert_exporter": "python",
   "pygments_lexer": "ipython3",
   "version": "3.6.3"
  }
 },
 "nbformat": 4,
 "nbformat_minor": 2
}
